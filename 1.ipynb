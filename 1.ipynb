{
  "nbformat": 4,
  "nbformat_minor": 0,
  "metadata": {
    "colab": {
      "name": "Untitled1.ipynb",
      "provenance": [],
      "authorship_tag": "ABX9TyPoNXCGcUSFajfEXhcHVrmq",
      "include_colab_link": true
    },
    "kernelspec": {
      "name": "python3",
      "display_name": "Python 3"
    },
    "language_info": {
      "name": "python"
    }
  },
  "cells": [
    {
      "cell_type": "markdown",
      "metadata": {
        "id": "view-in-github",
        "colab_type": "text"
      },
      "source": [
        "<a href=\"https://colab.research.google.com/github/Elizabeth14755/DSL/blob/main/1.ipynb\" target=\"_parent\"><img src=\"https://colab.research.google.com/assets/colab-badge.svg\" alt=\"Open In Colab\"/></a>"
      ]
    },
    {
      "cell_type": "code",
      "source": [
        "import os.path as helper\n",
        "\n",
        "# separator symbols\n",
        "# defined as a set for more efficient check of symbols\n",
        "whitespaces = {' ', '.', ',', '\\n'}\n"
      ],
      "metadata": {
        "id": "Mn8_-8obYjHE"
      },
      "execution_count": 2,
      "outputs": []
    },
    {
      "cell_type": "code",
      "source": [
        "def parse(separators: set, input_string: str) -> list:\n",
        "    \"\"\"\"\n",
        "    the function processes input string by one symbol\n",
        "\n",
        "    If a separator is encountered,\n",
        "    then the current token is included in the output token list.\n",
        "    Until delimiters are encountered, a new character is added to the current token\n",
        "    \"\"\"\n",
        "    tokens = []\n",
        "    # current could be a list\n",
        "    # for more economical memory consumption\n",
        "    current_token = \"\"\n",
        "\n",
        "    for symbol in input_string:\n",
        "        if symbol in separators:\n",
        "            # next if statement needed for case if the input string\n",
        "            # contains more than one symbol in a row\n",
        "            # from set of WHITESPACES\n",
        "            if len(current_token) != 0:\n",
        "                tokens.append(current_token)\n",
        "                current_token = \"\"\n",
        "        else:\n",
        "            # works like a buffer into which\n",
        "            # any character not found in WHITESPACES\n",
        "            current_token += symbol\n",
        "\n",
        "    # handles the case, when current token exists\n",
        "    if len(current_token) != 0:\n",
        "        tokens.append(current_token)\n",
        "\n",
        "    return tokens\n"
      ],
      "metadata": {
        "id": "PcAUqiZbYntg"
      },
      "execution_count": 3,
      "outputs": []
    },
    {
      "cell_type": "code",
      "source": [
        "if __name__ == '__main__':\n",
        "    text = \" I live in Kharkiv.  \"\n",
        "\n",
        "    correctly_slitted_text = text.split()\n",
        "    output_list = parse(whitespaces, text)\n",
        "    print(output_list)\n",
        "\n",
        "    # check for a correctly split text\n",
        "    if text.split() == output_list:\n",
        "        print(\"text parsed correctly\")\n",
        "    else:\n",
        "        print(\"text parsed incorrectly\")\n"
      ],
      "metadata": {
        "colab": {
          "base_uri": "https://localhost:8080/"
        },
        "id": "77LptS2aYqML",
        "outputId": "fb9bb051-37f7-4d13-b233-60d88b8c1b6b"
      },
      "execution_count": 9,
      "outputs": [
        {
          "output_type": "stream",
          "name": "stdout",
          "text": [
            "['I', 'live', 'in', 'Kharkiv']\n",
            "text parsed incorrectly\n"
          ]
        }
      ]
    }
  ]
}