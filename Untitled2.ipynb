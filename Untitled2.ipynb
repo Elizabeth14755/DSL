{
  "nbformat": 4,
  "nbformat_minor": 0,
  "metadata": {
    "colab": {
      "name": "Untitled2.ipynb",
      "provenance": [],
      "authorship_tag": "ABX9TyP2XF96afIfxM5yD3moCj44",
      "include_colab_link": true
    },
    "kernelspec": {
      "name": "python3",
      "display_name": "Python 3"
    },
    "language_info": {
      "name": "python"
    }
  },
  "cells": [
    {
      "cell_type": "markdown",
      "metadata": {
        "id": "view-in-github",
        "colab_type": "text"
      },
      "source": [
        "<a href=\"https://colab.research.google.com/github/Elizabeth14755/DSL/blob/main/Untitled2.ipynb\" target=\"_parent\"><img src=\"https://colab.research.google.com/assets/colab-badge.svg\" alt=\"Open In Colab\"/></a>"
      ]
    },
    {
      "cell_type": "markdown",
      "source": [
        "Припустимо, що контекстно-вільна граматика представляється словником\n",
        "\n",
        "{'toks': set(token), 'vars': dict(var: definition), 'hvar': var}\n",
        "token : (class, value)\n",
        "class : int\n",
        "value : str\n",
        "var : str                 # імєя нетермінала\n",
        "definition : list(rule)\n",
        "rule : list(var | token)  # права частина правила\n",
        "Необхідно написати функції для:\n",
        "\n",
        "1.прибирання сторонніх нетерміналів\n",
        "2.визначення зникаючих символів"
      ],
      "metadata": {
        "id": "P8NVgAMxh8TO"
      }
    },
    {
      "cell_type": "code",
      "execution_count": 1,
      "metadata": {
        "colab": {
          "base_uri": "https://localhost:8080/"
        },
        "id": "qS1O4lwohNcA",
        "outputId": "daaa47f9-72c0-4dbb-fdf3-c135141b038e"
      },
      "outputs": [
        {
          "output_type": "stream",
          "name": "stdout",
          "text": [
            "['A', 'C', 'D']\n"
          ]
        }
      ],
      "source": [
        "import copy\n",
        "def findProdNonTerm(grammar):#find productive non-terminals\n",
        "  ProdNonTerm = set()\n",
        "  flag = True\n",
        "  while flag:\n",
        "      flag = False\n",
        "      for nonterm, rules in grammar['vars'].items():#split the dictionary and go to the key get its value & split it into a non-terminal and a rule\n",
        "        if nonterm not in ProdNonTerm: #if non-terminal is not in productive non-terminals, we check it\n",
        "          for rule in rules:\n",
        "            if all(map(lambda x: x in grammar['toks'] or x in ProdNonTerm, rule)):\n",
        "              flag = True\n",
        "              ProdNonTerm.add(nonterm)\n",
        "              break\n",
        "  return ProdNonTerm\n",
        "\n",
        "def addNewNonTerms (grammar):#add product terminals to the new grammar (create new grammar )\n",
        "    ProdNonTerm = findProdNonTerm(grammar)\n",
        "    newGrammar = copy.deepcopy(grammar)\n",
        "    NewNonTerms = dict()\n",
        "    for nonterm, rules in grammar['vars'].items():\n",
        "         if nonterm in ProdNonTerm:\n",
        "             for rule in rules:\n",
        "                 if all(map(lambda x: x in grammar['toks'] or x in ProdNonTerm, rule)):\n",
        "                    if nonterm in NewNonTerms.keys():\n",
        "                        NewNonTerms[nonterm].append(rule)\n",
        "                    else:\n",
        "                        NewNonTerms[nonterm] = list()\n",
        "                        NewNonTerms[nonterm].append(rule)\n",
        "    newGrammar['vars'] = NewNonTerms\n",
        "    return newGrammar\n",
        "    \n",
        "\n",
        "def delDisap(grammar):#remove disappearing nonterminals\n",
        "    Empty = list()\n",
        "    flag = True\n",
        "    \n",
        "    while flag:\n",
        "        flag = False\n",
        "        for nonterm, rules in grammar['vars'].items():\n",
        "            for rule in rules:\n",
        "                if (map(lambda x: x == (0, ' ') or x in Empty, rule)):\n",
        "                    if nonterm not in Empty:\n",
        "                        Empty.append(nonterm)\n",
        "                        flag = True\n",
        "    return Empty\n",
        "\n",
        "    \n",
        "grammar = { 'toks': list(\n",
        "                    [(0, ' '),\n",
        "                     (1, 'a'),\n",
        "                     (2, 'b'),\n",
        "                     (3, 'c'),\n",
        "                     (4, 'd')]\n",
        "                    ),\n",
        "            'vars': {\n",
        "                'A': [['B', (1, 'a')],\n",
        "                      ['D'],\n",
        "                      ['F', (2, 'b')]],\n",
        "                'B': [['B'],\n",
        "                      ['F', (3, 'c')]],\n",
        "                'C': [['C'],\n",
        "                      ['A',(4, 'd')],\n",
        "                      ['F', (1, 'a')]],\n",
        "                'D': [[(0, ' ')]],\n",
        "                'F': [\n",
        "                      ['B', (3, 'c')],\n",
        "                      ['F', (2, 'b')]]\n",
        "                    },\n",
        "            'hvar': 'A',\n",
        "            }\n",
        "print(delDisap(addNewNonTerms(grammar)))"
      ]
    }
  ]
}